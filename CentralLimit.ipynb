{
 "cells": [
  {
   "cell_type": "code",
   "execution_count": 1,
   "metadata": {
    "collapsed": true
   },
   "outputs": [],
   "source": [
    "import numpy as np\n",
    "import pandas as pd\n",
    "import scipy\n",
    "import matplotlib.pyplot as plt\n",
    "%matplotlib inline"
   ]
  },
  {
   "cell_type": "code",
   "execution_count": 27,
   "metadata": {},
   "outputs": [
    {
     "data": {
      "image/png": "[encoded data removed]",
      "text/plain": [
       "<matplotlib.figure.Figure at 0x10d86b710>"
      ]
     },
     "metadata": {},
     "output_type": "display_data"
    }
   ],
   "source": [
    "pop1 = np.random.binomial(10, 0.4, 10000)\n",
    "pop2 = np.random.binomial(10, 0.5, 10000) \n",
    "\n",
    "# Let’s make histograms for the two groups. \n",
    "\n",
    "plt.hist(pop1, alpha=0.5, label='Population 1') \n",
    "plt.hist(pop2, alpha=0.5, label='Population 2') \n",
    "plt.legend(loc='upper right') \n",
    "plt.show()"
   ]
  },
  {
   "cell_type": "code",
   "execution_count": 28,
   "metadata": {},
   "outputs": [
    {
     "data": {
      "image/png": "[encoded data removed]",
      "text/plain": [
       "<matplotlib.figure.Figure at 0x10d753ac8>"
      ]
     },
     "metadata": {},
     "output_type": "display_data"
    }
   ],
   "source": [
    "# Increase the sameple size from 100 to 1000. Expect same mean, but smaller std.\n",
    "sample1 = np.random.choice(pop1, 100, replace=True)\n",
    "sample2 = np.random.choice(pop2, 100, replace=True)\n",
    "\n",
    "plt.hist(sample1, alpha=0.5, label='sample 1') \n",
    "plt.hist(sample2, alpha=0.5, label='sample 2') \n",
    "plt.legend(loc='upper right') \n",
    "plt.show()"
   ]
  },
  {
   "cell_type": "code",
   "execution_count": 29,
   "metadata": {},
   "outputs": [
    {
     "name": "stdout",
     "output_type": "stream",
     "text": [
      "3.9\n",
      "4.96\n",
      "1.54596248337\n",
      "1.37782437197\n",
      "1.06\n"
     ]
    }
   ],
   "source": [
    "print(sample1.mean())\n",
    "print(sample2.mean())\n",
    "print(sample1.std())\n",
    "print(sample2.std())\n",
    "\n",
    "# The results between 100 and 1000 are the same for mean and std.\n",
    "# When sample size = 20 the means shift, but the std not too much change.\n",
    "\n",
    "# Compute the difference between the two sample means.\n",
    "diff=sample2.mean( ) -sample1.mean()\n",
    "print(diff)"
   ]
  },
  {
   "cell_type": "code",
   "execution_count": 30,
   "metadata": {},
   "outputs": [
    {
     "name": "stdout",
     "output_type": "stream",
     "text": [
      "[100 100]\n",
      "[ 1.54596248  1.37782437]\n",
      "[ 0.0239    0.018984]\n",
      "0.207084523806\n",
      "5.11868284755\n"
     ]
    }
   ],
   "source": [
    "size = np.array([len(sample1), len(sample2)])\n",
    "sd = np.array([sample1.std(), sample2.std()])\n",
    "print(size)\n",
    "print(sd)\n",
    "\n",
    "# The squared standard deviations are divided by the sample size and summed, then we take\n",
    "# the square root of the sum. \n",
    "diff_se = (sum(sd ** 2 / size)) ** 0.5  \n",
    "print(sd ** 2 / size)\n",
    "print(diff_se)\n",
    "\n",
    "#The difference between the means divided by the standard error: T-value.  \n",
    "print(diff/diff_se)"
   ]
  },
  {
   "cell_type": "code",
   "execution_count": 31,
   "metadata": {},
   "outputs": [
    {
     "name": "stdout",
     "output_type": "stream",
     "text": [
      "Ttest_indResult(statistic=5.0930251278484961, pvalue=8.2673236249770379e-07)\n"
     ]
    }
   ],
   "source": [
    "from scipy.stats import ttest_ind\n",
    "print(ttest_ind(sample2, sample1, equal_var=False))"
   ]
  },
  {
   "cell_type": "code",
   "execution_count": 32,
   "metadata": {
    "collapsed": true
   },
   "outputs": [],
   "source": [
    "# Shifting the p-value of pop1 from 0.2 to 0.3 and 0.4 brings the two distributions closer together, decreasing the\n",
    "# difference in means between them and increasing the resulting p-value."
   ]
  },
  {
   "cell_type": "code",
   "execution_count": 39,
   "metadata": {},
   "outputs": [
    {
     "data": {
      "image/png": "[encoded data removed]",
      "text/plain": [
       "<matplotlib.figure.Figure at 0x10b5f0e10>"
      ]
     },
     "metadata": {},
     "output_type": "display_data"
    }
   ],
   "source": [
    "pop3 = np.random.normal(9, 0.2, 10000)\n",
    "pop4 = np.random.normal(10, 1, 10000) \n",
    "\n",
    "# Let’s make histograms for the two groups. \n",
    "\n",
    "plt.hist(pop3, alpha=0.5, label='Population 1') \n",
    "plt.hist(pop4, alpha=0.5, label='Population 2') \n",
    "plt.legend(loc='upper right') \n",
    "plt.show()"
   ]
  },
  {
   "cell_type": "code",
   "execution_count": 40,
   "metadata": {},
   "outputs": [
    {
     "data": {
      "image/png": "[encoded data removed]",
      "text/plain": [
       "<matplotlib.figure.Figure at 0x10d7a8358>"
      ]
     },
     "metadata": {},
     "output_type": "display_data"
    }
   ],
   "source": [
    "# Increase the sameple size from 100 to 1000. Expect same mean, but smaller std.\n",
    "sample3 = np.random.choice(pop3, 100, replace=True)\n",
    "sample4 = np.random.choice(pop4, 100, replace=True)\n",
    "\n",
    "plt.hist(sample3, alpha=0.5, label='sample 3') \n",
    "plt.hist(sample4, alpha=0.5, label='sample 4') \n",
    "plt.legend(loc='upper right') \n",
    "plt.show()"
   ]
  },
  {
   "cell_type": "code",
   "execution_count": 41,
   "metadata": {},
   "outputs": [
    {
     "name": "stdout",
     "output_type": "stream",
     "text": [
      "9.00265671432\n",
      "10.0983304339\n",
      "0.215611561529\n",
      "1.0850822292\n",
      "-1.09567371958\n"
     ]
    }
   ],
   "source": [
    "print(sample3.mean())\n",
    "print(sample4.mean())\n",
    "print(sample3.std())\n",
    "print(sample4.std())\n",
    "\n",
    "# The results between 100 and 1000 are the same for mean and std.\n",
    "# When sample size = 20 the means shift, but the std not too much change.\n",
    "\n",
    "# Compute the difference between the two sample means.\n",
    "diff=sample3.mean( ) -sample4.mean()\n",
    "print(diff)"
   ]
  },
  {
   "cell_type": "code",
   "execution_count": 42,
   "metadata": {},
   "outputs": [
    {
     "name": "stdout",
     "output_type": "stream",
     "text": [
      "[100 100]\n",
      "[ 0.21561156  1.08508223]\n",
      "[ 0.00046488  0.01177403]\n",
      "0.110629642935\n",
      "-9.90397953491\n"
     ]
    }
   ],
   "source": [
    "size = np.array([len(sample3), len(sample4)])\n",
    "sd = np.array([sample3.std(), sample4.std()])\n",
    "print(size)\n",
    "print(sd)\n",
    "\n",
    "# The squared standard deviations are divided by the sample size and summed, then we take\n",
    "# the square root of the sum. \n",
    "diff_se = (sum(sd ** 2 / size)) ** 0.5  \n",
    "print(sd ** 2 / size)\n",
    "print(diff_se)\n",
    "\n",
    "#The difference between the means divided by the standard error: T-value.  \n",
    "print(diff/diff_se)"
   ]
  },
  {
   "cell_type": "code",
   "execution_count": 43,
   "metadata": {},
   "outputs": [
    {
     "name": "stdout",
     "output_type": "stream",
     "text": [
      "Ttest_indResult(statistic=5.0930251278484961, pvalue=8.2673236249770379e-07)\n"
     ]
    }
   ],
   "source": [
    "from scipy.stats import ttest_ind\n",
    "print(ttest_ind(sample2, sample1, equal_var=False))"
   ]
  },
  {
   "cell_type": "code",
   "execution_count": null,
   "metadata": {
    "collapsed": true
   },
   "outputs": [],
   "source": []
  }
 ],
 "metadata": {
  "kernelspec": {
   "display_name": "Python 3",
   "language": "python",
   "name": "python3"
  },
  "language_info": {
   "codemirror_mode": {
    "name": "ipython",
    "version": 3
   },
   "file_extension": ".py",
   "mimetype": "text/x-python",
   "name": "python",
   "nbconvert_exporter": "python",
   "pygments_lexer": "ipython3",
   "version": "3.6.2"
  }
 },
 "nbformat": 4,
 "nbformat_minor": 2
}
